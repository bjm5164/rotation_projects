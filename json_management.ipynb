{
 "cells": [
  {
   "cell_type": "code",
   "execution_count": null,
   "metadata": {},
   "outputs": [],
   "source": [
    "import pandas as pd\n",
    "from pathlib import Path\n",
    "import os"
   ]
  },
  {
   "cell_type": "markdown",
   "metadata": {},
   "source": [
    "# Manage JSON States\n",
    " One reasonable way to manage your data is through JSON states. You annotate a bunch of things in a neuroglancer instance, say neurons and synapses, and you want to save them for later. In neuroglancer, you do this by pressing cntrl-shift-j. This will both save your json state to the json service, and generate a JSON state ID. There is no good way to look up this ID later, so you want to keep track of yours. Here is a simple method for doing that.\n",
    "\n",
    "#### 1. Set up a dataframe of your JSON state IDs and a string tag to describe them. "
   ]
  },
  {
   "cell_type": "code",
   "execution_count": null,
   "metadata": {},
   "outputs": [],
   "source": [
    "class StateManager: \n",
    "    \n",
    "    ''' Class for keeping track of JSON states.'''\n",
    "    def __init__(self,\n",
    "                 filename=None,\n",
    "                 token=None):\n",
    "        \n",
    "        self.directory = Path.home() / 'cloudvolume'\n",
    "        if filename is None:\n",
    "            self.filename = self.directory / 'json_states.csv'\n",
    "            self.__initialize()\n",
    "        \n",
    "        \n",
    "    def __initialize(self):\n",
    "        # Check if the database exists, if not create a new one.\n",
    "        fileEmpty =  os.path.exists(self.filename)\n",
    "        if not fileEmpty:\n",
    "            df = pd.DataFrame(columns=['state_id','description'])\n",
    "            df.to_csv(self.filename,index=False)\n",
    "            print('Database created')            \n",
    "\n",
    "        \n",
    "        self.get_database()\n",
    "    \n",
    "    def get_database(self):\n",
    "        # Read database. \n",
    "        self.df  = pd.read_csv(self.filename)\n",
    "        \n",
    " \n",
    "    def add_state(self, state_id, description=None):\n",
    "        \n",
    "        filename = self.filename\n",
    "        self.get_database()\n",
    "        df = self.df \n",
    "        df = df.append([{'state_id':state_id,'description':description}],ignore_index=True)\n",
    "        df.to_csv(filename,',',index=False)\n",
    "        \n",
    "        return('state added')\n",
    " \n",
    "    def remove_state(self,index): \n",
    "        df = self.df\n",
    "        df = df.drop(index)\n",
    "        df.to_csv(self.filename,index=False)\n",
    "        \n",
    "    \n",
    "    \n",
    "    def get_url(self,state):\n",
    "        return('https://neuromancer-seung-import.appspot.com/?json_url=https://api.zetta.ai/json/' + str(state))\n",
    "        \n",
    "            "
   ]
  },
  {
   "cell_type": "code",
   "execution_count": null,
   "metadata": {},
   "outputs": [],
   "source": [
    "json_list = StateManager()\n",
    "json_list.df"
   ]
  },
  {
   "cell_type": "code",
   "execution_count": null,
   "metadata": {},
   "outputs": [],
   "source": [
    "state_id = 585521373111957130\n",
    "json_list.add_state(state_id,description='MN comparison')"
   ]
  },
  {
   "cell_type": "code",
   "execution_count": null,
   "metadata": {},
   "outputs": [],
   "source": [
    "json_list.get_url(state_id)"
   ]
  }
 ],
 "metadata": {
  "kernelspec": {
   "display_name": "connectomics_analysis",
   "language": "python",
   "name": "connectomics_analysis"
  },
  "language_info": {
   "codemirror_mode": {
    "name": "ipython",
    "version": 3
   },
   "file_extension": ".py",
   "mimetype": "text/x-python",
   "name": "python",
   "nbconvert_exporter": "python",
   "pygments_lexer": "ipython3",
   "version": "3.7.7"
  }
 },
 "nbformat": 4,
 "nbformat_minor": 4
}
